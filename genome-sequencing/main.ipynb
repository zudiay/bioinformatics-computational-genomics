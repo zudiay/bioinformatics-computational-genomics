{
  "nbformat": 4,
  "nbformat_minor": 0,
  "metadata": {
    "colab": {
      "name": "main.ipynb",
      "provenance": [],
      "collapsed_sections": []
    },
    "kernelspec": {
      "name": "python3",
      "display_name": "Python 3"
    },
    "language_info": {
      "name": "python"
    }
  },
  "cells": [
    {
      "cell_type": "markdown",
      "source": [
        "# Genome Sequencing"
      ],
      "metadata": {
        "id": "Y1OYvz8xzz4Q"
      }
    },
    {
      "cell_type": "code",
      "execution_count": null,
      "metadata": {
        "id": "W5QCeU2ejxcY"
      },
      "outputs": [],
      "source": [
        "import math\n",
        "from collections import defaultdict\n",
        "import urllib.request"
      ]
    },
    {
      "cell_type": "markdown",
      "source": [
        "\n",
        "---\n",
        "### **1A**\n",
        "Loading the read pairs from the data file (each read pair is in a separate line and each pair has been\n",
        "separated by a “|” sign), and removing the lines corresponding to the metadata (the first two lines).\n",
        "Afterwards, constructing the paired de Bruijn graph from this data. Printing the upper left 20 x 20 part of the\n",
        "de Bruijn adjacency matrix constructed."
      ],
      "metadata": {
        "id": "kHfU4GlgT_3U"
      }
    },
    {
      "cell_type": "code",
      "source": [
        "# Retrieve the data using the URL and traverse the lines\n",
        "# Convert type bytes-formated lines into strings\n",
        "# Detect the input and output lines, keep the pairs into a list in the form of tuples \n",
        "\n",
        "url = \"https://bioinformaticsalgorithms.com/data/extradatasets/assembly/string_reconstruction_from_read_pairs.txt\"\n",
        "data = urllib.request.urlopen(url)\n",
        "\n",
        "pairs = []\n",
        "output = ''\n",
        "\n",
        "is_input=True\n",
        "for i, line in enumerate(data):\n",
        "  line = line.decode(\"utf-8\").strip()\n",
        "  if i == 0:\n",
        "    continue\n",
        "  if i == 1:\n",
        "    values = line.split(' ')\n",
        "    K = values[0]\n",
        "    D = values[1]\n",
        "    continue\n",
        "  elif(line=='Output'):\n",
        "    is_input = False\n",
        "    continue\n",
        "  elif is_input:\n",
        "    pair = line.split('|')\n",
        "    pair = (pair[0], pair[1])\n",
        "    pairs.append(pair)\n",
        "  else:\n",
        "    output = line"
      ],
      "metadata": {
        "id": "ZfAYXDu-UlYx"
      },
      "execution_count": null,
      "outputs": []
    },
    {
      "cell_type": "code",
      "source": [
        "# After obtaining a list of pair tuples, create the adjacency matrix\n",
        "# Create a set of nodes and save all edges to a list for further usage\n",
        "res = []\n",
        "nodes = set()\n",
        "for pair in pairs:\n",
        "    prefix = (pair[0][:-1], pair[1][:-1])\n",
        "    suffix = (pair[0][1:], pair[1][1:])\n",
        "    res.append((prefix, suffix))\n",
        "    nodes.add(prefix)\n",
        "    nodes.add(suffix)\n",
        "\n",
        "# order the nodes with alphabetical order\n",
        "ordered_nodes = sorted(list(nodes))\n",
        "\n",
        "# create adjacency matrix in the size of nodes\n",
        "adjacency = {}\n",
        "for i, node_one in enumerate(ordered_nodes):\n",
        "  adjacency[i] = [0 for x in range(len(ordered_nodes))]\n",
        "\n",
        "# For the previously saved pairs, make the value in adjacency matrix 1 as there is an edge from prefix to suffix\n",
        "for (pre, suf) in res:\n",
        "  adjacency[ordered_nodes.index(pre)][ordered_nodes.index(suf)] =1"
      ],
      "metadata": {
        "id": "Ybs7T1X9SHjv"
      },
      "execution_count": null,
      "outputs": []
    },
    {
      "cell_type": "code",
      "source": [
        "# Print the left-top 20x20 part of the created adjacency matrix\n",
        "\n",
        "print(\"Bruijn Adjacency Matrix\")\n",
        "for i in range(0,20):\n",
        "  print(\" \".join([str(x) for x in adjacency[i][:20]]))\n"
      ],
      "metadata": {
        "id": "_DL3LZ8CYX4O",
        "colab": {
          "base_uri": "https://localhost:8080/"
        },
        "outputId": "b0fef370-93ea-4a2c-9daf-75e1247bcee9"
      },
      "execution_count": null,
      "outputs": [
        {
          "output_type": "stream",
          "name": "stdout",
          "text": [
            "Bruijn Adjacency Matrix\n",
            "0 1 0 0 0 0 0 0 0 0 0 0 0 0 0 0 0 0 0 0\n",
            "0 0 1 0 0 0 0 0 0 0 0 0 0 0 0 0 0 0 0 0\n",
            "0 0 0 0 0 0 1 0 0 0 0 0 0 0 0 0 0 0 0 0\n",
            "0 0 0 0 0 0 0 0 0 0 0 0 0 0 0 0 0 1 0 0\n",
            "0 0 0 0 0 0 0 0 0 0 0 0 0 0 0 0 0 0 0 1\n",
            "0 0 0 0 0 0 0 0 0 0 0 0 0 0 0 0 0 0 0 0\n",
            "0 0 0 0 0 0 0 0 0 0 0 0 0 0 0 0 0 0 0 0\n",
            "0 0 0 0 0 0 0 0 0 0 0 0 0 0 0 0 0 0 0 0\n",
            "0 0 0 0 0 0 0 0 0 0 0 0 0 0 0 0 0 0 0 0\n",
            "0 0 0 0 0 0 0 0 0 0 0 0 0 0 0 0 0 0 0 0\n",
            "0 0 0 0 0 0 0 0 0 0 0 0 0 0 0 0 0 0 0 0\n",
            "0 0 0 0 0 0 0 0 0 0 0 0 0 0 0 0 0 0 0 0\n",
            "0 0 0 0 0 0 0 0 0 0 0 0 0 0 0 0 0 0 0 0\n",
            "0 0 0 0 0 0 0 0 0 0 0 0 0 0 0 0 0 0 0 0\n",
            "0 0 0 0 0 0 0 0 0 0 0 0 0 0 0 0 0 0 0 0\n",
            "0 0 0 0 0 0 0 0 0 0 0 0 0 0 0 0 0 0 0 0\n",
            "0 0 0 0 0 0 0 0 0 0 0 0 0 0 0 0 0 0 0 0\n",
            "0 0 0 0 0 0 0 0 0 0 0 0 0 0 0 0 0 0 0 0\n",
            "0 0 0 0 0 0 0 0 0 0 0 0 0 0 0 0 0 0 0 0\n",
            "0 0 0 0 0 0 0 0 0 0 0 0 0 0 0 0 0 0 0 0\n"
          ]
        }
      ]
    },
    {
      "cell_type": "markdown",
      "source": [
        "\n",
        "\n",
        "---\n",
        "\n",
        "\n",
        "### **1B**\n",
        "Finding the unique Eulerian path in the de Bruijn graph and reconstructing the associated genome\n",
        "sequence accordingly. Printing the length of the final reconstructed genome."
      ],
      "metadata": {
        "id": "YSIb28tMUAIv"
      }
    },
    {
      "cell_type": "code",
      "source": [
        "# Before searching for a cycle in adjacency matrix, find and connect the starting and ending nodes\n",
        "# the starting node is the node where there exists 0 coming edges to it\n",
        "# the end node is the node where there exists 0 going edges from it\n",
        "# Detect the starting and ending nodes from the adjacency matrix\n",
        "start_node = -1\n",
        "end_node = -1\n",
        "for i in range(0, len(ordered_nodes)):\n",
        "  outgoing = sum(adjacency[i])\n",
        "  incoming = 0\n",
        "  for j in range(0, len(ordered_nodes)):\n",
        "    incoming += adjacency[j][i]\n",
        "  if incoming == 0:\n",
        "    start_node = i\n",
        "  if outgoing == 0:\n",
        "    end_node = i\n",
        "\n",
        "# To create a cycle, add an edge from the end node to the start node\n",
        "print(start_node, end_node)\n",
        "adjacency[end_node][start_node] = 1"
      ],
      "metadata": {
        "id": "viedQi1OZ8nG",
        "colab": {
          "base_uri": "https://localhost:8080/"
        },
        "outputId": "bf1547b8-1b41-456c-e244-7553993dc035"
      },
      "execution_count": null,
      "outputs": [
        {
          "output_type": "stream",
          "name": "stdout",
          "text": [
            "2846 2593\n"
          ]
        }
      ]
    },
    {
      "cell_type": "code",
      "source": [
        "# Using the Hierholzer's Algorithm to find the Euler path. see: https://algorithms.discrete.ma.tum.de/graph-algorithms/hierholzer/index_en.html\n",
        "\n",
        "def find_eulerian_path(edges_matrix , start_node):\n",
        "  result = []\n",
        "\n",
        "  # I start the algorithm with the starting node I have determined\n",
        "  node = start_node\n",
        "  path = [node]\n",
        "\n",
        "\n",
        "  while True:\n",
        "    if path == []:\n",
        "      break\n",
        "\n",
        "\t\t# If there are unvisited edges from the node, use the first edge, remove the used edge and jump to next node\n",
        "    if edges_matrix[node]:\n",
        "      path.append(node)                             # add this node to path\n",
        "      next_node = edges_matrix[node][0]             # jump to next node\n",
        "      edges_matrix[node] = edges_matrix[node][1:]   # remove the used edge\n",
        "      node = next_node\n",
        "\n",
        "    # If there are not unvisited edges from the node, then go backwards\n",
        "    else:\n",
        "      next_node = path[-1]  # jump to previous node\n",
        "      result.append(node)   # add this node to result\n",
        "      node = next_node      # jump to previous node\n",
        "      path = path[:-1]      # remove one step from the path\n",
        "  \n",
        "  # reverse the result before returning, remove the last index because it is the same with the first one\n",
        "  result.reverse()\n",
        "  return result[:-1]\n"
      ],
      "metadata": {
        "id": "fs83iIJgD-sC"
      },
      "execution_count": null,
      "outputs": []
    },
    {
      "cell_type": "code",
      "source": [
        "# Using the adjacency matrix, create a map of edges to be used in the euler path algorithm\n",
        "edges = {}\n",
        "for i in range(len(ordered_nodes)):\n",
        "  l = [j for j in range(len(ordered_nodes)) if adjacency[i][j]==1]\n",
        "  edges[i]=l\n",
        "\n",
        "euler_path = find_eulerian_path(edges, start_node)"
      ],
      "metadata": {
        "id": "bEk2FDwksFsF"
      },
      "execution_count": null,
      "outputs": []
    },
    {
      "cell_type": "code",
      "source": [
        "# Reconstruct the genome using the Euler path calculated\n",
        "\n",
        "def reconstruct(path, d):\n",
        "  genome = ''\n",
        "\n",
        "  # Start with the first node in the path, find the pair corresponding to that node from ordered_nodes\n",
        "  initial_pair = ordered_nodes[path[0]]\n",
        "  \n",
        "  # Add the first element of the initial tuple to the genome as a whole\n",
        "  # Then for each remaining node in the path until the D+1th, Find the pair corresponding to that node from ordered_nodes\n",
        "  # Add the last gene of the first element of the tuple to the genome\n",
        "  genome += initial_pair[0]\n",
        "  for node in path[1: d + 2]:\n",
        "    pair = ordered_nodes[node]\n",
        "    genome += pair[0][-1]\n",
        "\n",
        "  # Do the same with the second elements of the tuples now\n",
        "  # This time consume the whole path \n",
        "  genome += initial_pair[1]\n",
        "  for node in path[1:]:\n",
        "    pair = ordered_nodes[node]\n",
        "    genome += pair[1][-1]\n",
        "  \n",
        "  # return the reconstructed genome\n",
        "  return genome\n",
        "\n",
        "genome = reconstruct(euler_path, int(D))"
      ],
      "metadata": {
        "id": "1l_07eQLWZ9S"
      },
      "execution_count": null,
      "outputs": []
    },
    {
      "cell_type": "code",
      "source": [
        "genome == output"
      ],
      "metadata": {
        "id": "YefrO0ki1NbZ",
        "colab": {
          "base_uri": "https://localhost:8080/"
        },
        "outputId": "28136334-8af6-4277-deb7-963863b0ded8"
      },
      "execution_count": null,
      "outputs": [
        {
          "output_type": "execute_result",
          "data": {
            "text/plain": [
              "True"
            ]
          },
          "metadata": {},
          "execution_count": 43
        }
      ]
    },
    {
      "cell_type": "markdown",
      "source": [
        "\n",
        "\n",
        "---\n",
        "\n",
        "\n",
        "### **1C**\n",
        "Printing the first 200 and last 200 characters of the reconstructed genome string."
      ],
      "metadata": {
        "id": "S1a720nxUKa4"
      }
    },
    {
      "cell_type": "code",
      "source": [
        "print(genome[:200])"
      ],
      "metadata": {
        "colab": {
          "base_uri": "https://localhost:8080/"
        },
        "id": "51KOWTh8Hcw7",
        "outputId": "d3b9eb02-9a74-420f-edda-e91c80816609"
      },
      "execution_count": null,
      "outputs": [
        {
          "output_type": "stream",
          "name": "stdout",
          "text": [
            "GAAAGGTACAAATACTGGCGACCTCGCTGTTCGACACTTCATCACTGCTCCGGGGCGCTCAGGAGGGACGGTTCCCTGTACCATTGGAAGTCAATAGTCTAAGGTACAAAGAGAAGACCCGACCCGACAGAGGGGGTTCTGCGCCGGGTTTCGAGCTTGTAACCCCCCAGAGAATTAGATCCACCGTCTGTGTGGACAAA\n"
          ]
        }
      ]
    },
    {
      "cell_type": "code",
      "source": [
        "print(genome[-200:])"
      ],
      "metadata": {
        "colab": {
          "base_uri": "https://localhost:8080/"
        },
        "id": "U18B143YHe5Y",
        "outputId": "d95dc450-f894-4483-a35b-2f9b2e428a97"
      },
      "execution_count": null,
      "outputs": [
        {
          "output_type": "stream",
          "name": "stdout",
          "text": [
            "GGGCAAATTATCAGCGTACAATTCCCAGATATATAGGCGGCGAGAAAAGCTTCAAAAGACTTAATTTACTAGCCTCCTACAAACTCTAGATGAGGATTGGCTCTTGATGCTAGCGTTTTCATTTTCCATTACAAGACATTAGGCTGATAATTGCAGAGATTGGCGGCGTAGACTGACAGTCGCGATCAATCTGCGTGTTA\n"
          ]
        }
      ]
    },
    {
      "cell_type": "code",
      "source": [
        "print(genome[:200] == output[:200])\n",
        "print(genome[-200:] == output[-200:])"
      ],
      "metadata": {
        "colab": {
          "base_uri": "https://localhost:8080/"
        },
        "id": "qexnAbjtMYzt",
        "outputId": "fb39ab94-e554-4b1b-dcda-0b33600319ad"
      },
      "execution_count": null,
      "outputs": [
        {
          "output_type": "stream",
          "name": "stdout",
          "text": [
            "True\n",
            "True\n"
          ]
        }
      ]
    }
  ]
}
