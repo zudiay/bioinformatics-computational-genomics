{
  "cells": [
    {
      "cell_type": "markdown",
      "id": "buried-invention",
      "metadata": {
        "id": "buried-invention"
      },
      "source": [
        "## Pairwise Sequence Alignment\n"
      ]
    },
    {
      "cell_type": "markdown",
      "source": [
        "The global definition of the scoring matrix and the alphabet."
      ],
      "metadata": {
        "id": "ezGWiA4b6rEG"
      },
      "id": "ezGWiA4b6rEG"
    },
    {
      "cell_type": "code",
      "source": [
        "SCORES = [[4., -1., -2., -2., 0., -1., -1., 0., -2., -1., -1., -1., -1.,\n",
        "           -2., -1., 1., 0., -3., -2., 0., -2., -1., 0., -4.],\n",
        "          [-1., 5., 0., -2., -3., 1., 0., -2., 0., -3., -2., 2., -1.,\n",
        "           -3., -2., -1., -1., -3., -2., -3., -1., 0., -1., -4.],\n",
        "          [-2., 0., 6., 1., -3., 0., 0., 0., 1., -3., -3., 0., -2.,\n",
        "           -3., -2., 1., 0., -4., -2., -3., 3., 0., -1., -4.],\n",
        "          [-2., -2., 1., 6., -3., 0., 2., -1., -1., -3., -4., -1., -3.,\n",
        "           -3., -1., 0., -1., -4., -3., -3., 4., 1., -1., -4.],\n",
        "          [0., -3., -3., -3., 9., -3., -4., -3., -3., -1., -1., -3., -1.,\n",
        "           -2., -3., -1., -1., -2., -2., -1., -3., -3., -2., -4.],\n",
        "          [-1., 1., 0., 0., -3., 5., 2., -2., 0., -3., -2., 1., 0.,\n",
        "           -3., -1., 0., -1., -2., -1., -2., 0., 3., -1., -4.],\n",
        "          [-1., 0., 0., 2., -4., 2., 5., -2., 0., -3., -3., 1., -2.,\n",
        "           -3., -1., 0., -1., -3., -2., -2., 1., 4., -1., -4.],\n",
        "          [0., -2., 0., -1., -3., -2., -2., 6., -2., -4., -4., -2., -3.,\n",
        "           -3., -2., 0., -2., -2., -3., -3., -1., -2., -1., -4.],\n",
        "          [-2., 0., 1., -1., -3., 0., 0., -2., 8., -3., -3., -1., -2.,\n",
        "           -1., -2., -1., -2., -2., 2., -3., 0., 0., -1., -4.],\n",
        "          [-1., -3., -3., -3., -1., -3., -3., -4., -3., 4., 2., -3., 1.,\n",
        "           0., -3., -2., -1., -3., -1., 3., -3., -3., -1., -4.],\n",
        "          [-1., -2., -3., -4., -1., -2., -3., -4., -3., 2., 4., -2., 2.,\n",
        "           0., -3., -2., -1., -2., -1., 1., -4., -3., -1., -4.],\n",
        "          [-1., 2., 0., -1., -3., 1., 1., -2., -1., -3., -2., 5., -1.,\n",
        "           -3., -1., 0., -1., -3., -2., -2., 0., 1., -1., -4.],\n",
        "          [-1., -1., -2., -3., -1., 0., -2., -3., -2., 1., 2., -1., 5.,\n",
        "           0., -2., -1., -1., -1., -1., 1., -3., -1., -1., -4.],\n",
        "          [-2., -3., -3., -3., -2., -3., -3., -3., -1., 0., 0., -3., 0.,\n",
        "           6., -4., -2., -2., 1., 3., -1., -3., -3., -1., -4.],\n",
        "          [-1., -2., -2., -1., -3., -1., -1., -2., -2., -3., -3., -1., -2.,\n",
        "           -4., 7., -1., -1., -4., -3., -2., -2., -1., -2., -4.],\n",
        "          [1., -1., 1., 0., -1., 0., 0., 0., -1., -2., -2., 0., -1.,\n",
        "           -2., -1., 4., 1., -3., -2., -2., 0., 0., 0., -4.],\n",
        "          [0., -1., 0., -1., -1., -1., -1., -2., -2., -1., -1., -1., -1.,\n",
        "           -2., -1., 1., 5., -2., -2., 0., -1., -1., 0., -4.],\n",
        "          [-3., -3., -4., -4., -2., -2., -3., -2., -2., -3., -2., -3., -1.,\n",
        "           1., -4., -3., -2., 11., 2., -3., -4., -3., -2., -4.],\n",
        "          [-2., -2., -2., -3., -2., -1., -2., -3., 2., -1., -1., -2., -1.,\n",
        "           3., -3., -2., -2., 2., 7., -1., -3., -2., -1., -4.],\n",
        "          [0., -3., -3., -3., -1., -2., -2., -3., -3., 3., 1., -2., 1.,\n",
        "           -1., -2., -2., 0., -3., -1., 4., -3., -2., -1., -4.],\n",
        "          [-2., -1., 3., 4., -3., 0., 1., -1., 0., -3., -4., 0., -3.,\n",
        "           -3., -2., 0., -1., -4., -3., -3., 4., 1., -1., -4.],\n",
        "          [-1., 0., 0., 1., -3., 3., 4., -2., 0., -3., -3., 1., -1.,\n",
        "           -3., -1., 0., -1., -3., -2., -2., 1., 4., -1., -4.],\n",
        "          [0., -1., -1., -1., -2., -1., -1., -1., -1., -1., -1., -1., -1.,\n",
        "           -1., -2., 0., 0., -2., -1., -1., -1., -1., -1., -4.],\n",
        "          [-4., -4., -4., -4., -4., -4., -4., -4., -4., -4., -4., -4., -4.,\n",
        "           -4., -4., -4., -4., -4., -4., -4., -4., -4., -4., 1.]]\n",
        "ALPHABET = 'ARNDCQEGHILKMFPSTWYVBZX*'\n"
      ],
      "metadata": {
        "id": "uUydBRF60HD2"
      },
      "id": "uUydBRF60HD2",
      "execution_count": null,
      "outputs": []
    },
    {
      "cell_type": "markdown",
      "id": "united-adult",
      "metadata": {
        "id": "united-adult"
      },
      "source": [
        "### Needleman Wunsch (Global Sequence Alignment)"
      ]
    },
    {
      "cell_type": "markdown",
      "source": [
        "SequenceItem class defines a node in the Needleman Wunsch Algorithm matrix with linear gap penalty. It keeps the coordinates for the node, the score and the direction the score is calculated: diagonal, horizontal gap or vertical gap."
      ],
      "metadata": {
        "id": "V4uTpkn861hG"
      },
      "id": "V4uTpkn861hG"
    },
    {
      "cell_type": "code",
      "source": [
        "class SequenceItem:\n",
        "\n",
        "    def __init__(self, row, col, score = 0, dir = None):\n",
        "        self.row = row\n",
        "        self.col = col\n",
        "        self.score = score\n",
        "        self.dir = dir\n"
      ],
      "metadata": {
        "id": "fyn2CMV66yh-"
      },
      "id": "fyn2CMV66yh-",
      "execution_count": null,
      "outputs": []
    },
    {
      "cell_type": "markdown",
      "source": [
        "The implementation of Needleman Wunsch Algorithm with linear gap penalty.\n",
        "- Start by initializing an (n+1)x(m+1) matrix of Sequence Items.\n",
        "- Mark the start node with direction as START.\n",
        "- Fill the initial nodes: 0th row and 0th column with the initialization rules.\n",
        "- For every other node, look to the nodes on left, up and up-left corner. Calculate 3 possible scores for different directions and take the maximum as the score of the node. Save the direction the highest score was calculated with as the dir.\n",
        "- After filling the whole matrix, the result score is the score of the node on the bottom-right corner of the matrix.\n",
        "\n",
        "---\n",
        "\n",
        "- For the backtrack, keep 3 strings, for sequence 1, sequence 2 and the match string.\n",
        "- Start with the node on the bottom-right corner of the matrix.\n",
        "- If the node's score is calculated by a HORIZONTAL_GAP, add a gap to the sequence 1 string, add a character to the sequence 2 string, add a gap to the match string. Move 1 column to the left.\n",
        "- If the node's score is calculated by a VERTICAL_GAP, add a gap to the sequence 2 string, add a character to the sequence 1 string, add a gap to the match string. Move 1 column to the top.\n",
        "- If the node's score is calculated by a DIAGONAL, add a character to the sequence 1 string, add a character to the sequence 2 string, add a match or mismatch to the match string. Move 1 column to the left, 1 column to the top.\n",
        "- Stop at the node with direction as START."
      ],
      "metadata": {
        "id": "KISdKg1n7Pdy"
      },
      "id": "KISdKg1n7Pdy"
    },
    {
      "cell_type": "code",
      "source": [
        "\n",
        "def global_linear(seq1, seq2, penalty_params):\n",
        "    GAP_PENALTY = penalty_params['gap_opening_penalty']\n",
        "\n",
        "    row_count = len(seq1) + 1\n",
        "    col_count = len(seq2) + 1\n",
        "    matrix = [[SequenceItem(row=row, col=col) for col in range(col_count)] for row in range(row_count)]\n",
        "\n",
        "\n",
        "    for row_num in range(row_count):\n",
        "        for col_num in range(col_count):\n",
        "            if row_num == 0 and col_num == 0:\n",
        "                item = SequenceItem(row=row_num, col=col_num, score=0, dir='START')\n",
        "\n",
        "            elif row_num == 0 :\n",
        "                item = SequenceItem(row=row_num, col=col_num, score=(GAP_PENALTY * col_num), dir='HORIZONTAL_GAP')\n",
        "\n",
        "            elif col_num == 0:\n",
        "                item = SequenceItem(row=row_num, col=col_num, score=(GAP_PENALTY * row_num), dir='VERTICAL_GAP')\n",
        "\n",
        "            else:\n",
        "                up = matrix[row_num-1][col_num]\n",
        "                left = matrix[row_num][col_num-1]\n",
        "                diagonal = matrix[row_num-1][col_num-1]\n",
        "\n",
        "                seq_1_letter = seq1[row_num - 1]\n",
        "                seq_2_letter = seq2[col_num - 1]\n",
        "\n",
        "                diagonal_score = diagonal.score + SCORES[ALPHABET.index(seq_1_letter)][ALPHABET.index(seq_2_letter)]\n",
        "                horizontal_score = left.score + GAP_PENALTY\n",
        "                vertical_score = up.score + GAP_PENALTY\n",
        "\n",
        "                score = max(diagonal_score, horizontal_score, vertical_score)\n",
        "                if score == horizontal_score:\n",
        "                    item = SequenceItem(row=row_num, col=col_num, score=score, dir='HORIZONTAL_GAP')\n",
        "                elif score == vertical_score:\n",
        "                    item = SequenceItem(row=row_num, col=col_num, score=score, dir='VERTICAL_GAP')\n",
        "                else:\n",
        "                    item = SequenceItem(row=row_num, col=col_num, score=score, dir='DIAGONAL')\n",
        "\n",
        "            matrix[row_num][col_num] = item\n",
        "\n",
        "    node = matrix[row_count-1][col_count-1]\n",
        "\n",
        "    print('Score:', node.score)\n",
        "    sequence_1_res = ''\n",
        "    sequence_2_res = ''\n",
        "    match = ''\n",
        "    while True:\n",
        "        if node.dir == 'START':\n",
        "            break\n",
        "        elif node.dir == 'HORIZONTAL_GAP':\n",
        "            sequence_1_res += '-'\n",
        "            sequence_2_res += seq2[node.col - 1]\n",
        "            match += '-'\n",
        "            row, col = node.row, node.col - 1\n",
        "        elif node.dir == 'VERTICAL_GAP':\n",
        "            sequence_1_res += seq1[node.row - 1]\n",
        "            sequence_2_res += '-'\n",
        "            match += '-'\n",
        "            row, col = node.row - 1, node.col\n",
        "        else:\n",
        "            sequence_1_res += seq1[node.row - 1]\n",
        "            sequence_2_res += seq2[node.col - 1]\n",
        "            match += '|' if seq1[node.row - 1] == seq2[node.col - 1] else '.'\n",
        "            row, col = node.row - 1, node.col -1\n",
        "        node = matrix[row][col]\n",
        "\n",
        "    print(sequence_1_res[::-1])\n",
        "    print(match[::-1])\n",
        "    print(sequence_2_res[::-1])\n"
      ],
      "metadata": {
        "id": "a2wmDuWd0Qo2"
      },
      "id": "a2wmDuWd0Qo2",
      "execution_count": null,
      "outputs": []
    },
    {
      "cell_type": "markdown",
      "source": [
        "\n",
        "\n",
        "---\n",
        "\n"
      ],
      "metadata": {
        "id": "2JrLKgiE914d"
      },
      "id": "2JrLKgiE914d"
    },
    {
      "cell_type": "markdown",
      "source": [
        "GlobalAffineSequenceItem class defines a node in the Needleman Wunsch Algorithm matrix with affine gap penalty. It keeps the coordinates for the node, three scores and the directions the scores are calculated."
      ],
      "metadata": {
        "id": "EpYtXG1_98hd"
      },
      "id": "EpYtXG1_98hd"
    },
    {
      "cell_type": "code",
      "source": [
        "class GlobalAffineSequenceItem:\n",
        "\n",
        "    def __init__(self, row, col, X=0.0, XDIR='', Y=0.0, YDIR='', D=0.0, DDIR=''):\n",
        "        self.row = row\n",
        "        self.col = col\n",
        "        self.X = X\n",
        "        self.XDIR = XDIR\n",
        "        self.Y = Y\n",
        "        self.YDIR = YDIR\n",
        "        self.D = D\n",
        "        self.DDIR = DDIR"
      ],
      "metadata": {
        "id": "CyWhrnrf9yj9"
      },
      "id": "CyWhrnrf9yj9",
      "execution_count": null,
      "outputs": []
    },
    {
      "cell_type": "markdown",
      "source": [
        "The implementation of Needleman Wunsch Algorithm with affine gap penalty.\n",
        "- Start by initializing an (n+1)x(m+1) matrix of GlobalAffineSequenceItem.\n",
        "- Mark the start node with direction as START.\n",
        "- Fill the initial nodes: 0th row and 0th column with the initialization rules.\n",
        "- For every other node, look to the nodes on left, up and up-left corner. \n",
        "- Calculate possible scores for different directions, using the different scores on the 3 nodes. Take the gap extention penalty in account. Save the direction the highest score was calculated with as the dir for each of the scores.\n",
        "- After filling the whole matrix, the result score is maximum of the scores of the node on the bottom-right corner of the matrix.\n",
        "\n",
        "---\n",
        "\n",
        "- For the backtrack, keep 3 strings, for sequence 1, sequence 2 and the match string.\n",
        "- Start with the node on the bottom-right corner of the matrix.\n",
        "- If the node's score is calculated by a HORIZONTAL_GAP, add a gap to the sequence 1 string, add a character to the sequence 2 string, add a gap to the match string. Move 1 column to the left.\n",
        "- If the node's score is calculated by a VERTICAL_GAP, add a gap to the sequence 2 string, add a character to the sequence 1 string, add a gap to the match string. Move 1 column to the top.\n",
        "- If the node's score is calculated by a DIAGONAL, add a character to the sequence 1 string, add a character to the sequence 2 string, add a match or mismatch to the match string. Move 1 column to the left, 1 column to the top.\n",
        "- At each iteration, decide which score in the next node to look at.\n",
        "- Stop at the node with direction as START."
      ],
      "metadata": {
        "id": "toByrUmf-Pvp"
      },
      "id": "toByrUmf-Pvp"
    },
    {
      "cell_type": "code",
      "source": [
        "import math\n",
        "\n",
        "\n",
        "def global_affine(seq1, seq2, penalty_params):\n",
        "    GAP_PENALTY = penalty_params['gap_opening_penalty']\n",
        "    GAP_EXTENSION_PENALTY = penalty_params['gap_extension_penalty']\n",
        "\n",
        "    row_count = len(seq1) + 1\n",
        "    col_count = len(seq2) + 1\n",
        "    matrix = [[GlobalAffineSequenceItem(row=row, col=col) for col in range(col_count)] for row in range(row_count)]\n",
        "\n",
        "\n",
        "    for row_num in range(row_count):\n",
        "        for col_num in range(col_count):\n",
        "            if row_num == 0 and col_num == 0:\n",
        "                item = GlobalAffineSequenceItem(row=row_num, col=col_num, X=0, Y=0, D=0, XDIR='START', YDIR='START', DDIR='START')\n",
        "\n",
        "            elif row_num == 0:\n",
        "                item = GlobalAffineSequenceItem(row=row_num, col=col_num, X=-math.inf, Y=GAP_PENALTY + (col_num - 1) * GAP_EXTENSION_PENALTY, D=-math.inf, XDIR='START', YDIR='Y', DDIR='START')\n",
        "\n",
        "            elif col_num == 0:\n",
        "                item = GlobalAffineSequenceItem(row=row_num, col=col_num, X=GAP_PENALTY + (row_num - 1) * GAP_EXTENSION_PENALTY, Y=-math.inf, D=-math.inf, XDIR='X', YDIR='START', DDIR='START')\n",
        "\n",
        "            else:\n",
        "                Y = max(matrix[row_num][col_num-1].Y + GAP_EXTENSION_PENALTY,\n",
        "                        matrix[row_num][col_num-1].D + GAP_PENALTY)\n",
        "                YDIR = 'Y' if Y == matrix[row_num][col_num-1].Y + GAP_EXTENSION_PENALTY else 'D'\n",
        "\n",
        "                X = max(matrix[row_num-1][col_num].X + GAP_EXTENSION_PENALTY,\n",
        "                        matrix[row_num-1][col_num].D + GAP_PENALTY)\n",
        "                XDIR = 'X' if X == matrix[row_num-1][col_num].X + GAP_EXTENSION_PENALTY else 'D'\n",
        "\n",
        "                seq_1_letter = seq1[row_num - 1]\n",
        "                seq_2_letter = seq2[col_num - 1]\n",
        "                score = SCORES[ALPHABET.index(seq_1_letter)][ALPHABET.index(seq_2_letter)]\n",
        "                D = max(matrix[row_num-1][col_num-1].X + score,\n",
        "                        matrix[row_num-1][col_num-1].Y + score,\n",
        "                        matrix[row_num-1][col_num-1].D + score)\n",
        "                DDIR= 'X' if D == matrix[row_num-1][col_num-1].X + score \\\n",
        "                    else ('Y' if D == matrix[row_num-1][col_num-1].Y + score else 'D')\n",
        "\n",
        "                item = GlobalAffineSequenceItem(row=row_num, col=col_num, X=X, Y=Y, D=D, XDIR=XDIR, YDIR=YDIR, DDIR=DDIR)\n",
        "            matrix[row_num][col_num] = item\n",
        "\n",
        "    node = matrix[row_count - 1][col_count - 1]\n",
        "    score = max(node.X, node.Y, node.D)\n",
        "\n",
        "    print('Score:', score)\n",
        "    sequence_1_res = ''\n",
        "    sequence_2_res = ''\n",
        "    match = ''\n",
        "\n",
        "    score_to_check = 'X' if score == node.X else ('Y' if score == node.Y else 'D')\n",
        "    while True:\n",
        "        if node.XDIR == 'START' and node.YDIR == 'START' and node.DDIR == 'START':\n",
        "            break\n",
        "        if score_to_check == 'X':\n",
        "            dir = 'VERTICAL_GAP'\n",
        "            if node.XDIR == 'X':\n",
        "                next_score_to_check = 'X'\n",
        "            else:\n",
        "                next_score_to_check = 'D'\n",
        "        elif score_to_check == 'Y':\n",
        "            dir = 'HORIZONTAL_GAP'\n",
        "            if node.YDIR == 'Y':\n",
        "                next_score_to_check = 'Y'\n",
        "            else:\n",
        "                next_score_to_check = 'D'\n",
        "        else:\n",
        "            dir = 'DIAGONAL'\n",
        "            if node.DDIR == 'X':\n",
        "                next_score_to_check = 'X'\n",
        "            elif node.DDIR == 'Y':\n",
        "                next_score_to_check = 'Y'\n",
        "            else:\n",
        "                next_score_to_check = 'D'\n",
        "        score_to_check = next_score_to_check\n",
        "\n",
        "        if dir == 'HORIZONTAL_GAP':\n",
        "            sequence_1_res += '-'\n",
        "            sequence_2_res += seq2[node.col - 1]\n",
        "            match += '-'\n",
        "            row, col = node.row, node.col - 1\n",
        "\n",
        "        elif dir == 'VERTICAL_GAP':\n",
        "            sequence_1_res += seq1[node.row - 1]\n",
        "            sequence_2_res += '-'\n",
        "            match += '-'\n",
        "            row, col = node.row - 1, node.col\n",
        "\n",
        "        else:\n",
        "            sequence_1_res += seq1[node.row - 1]\n",
        "            sequence_2_res += seq2[node.col - 1]\n",
        "            match += '|' if seq1[node.row - 1] == seq2[node.col - 1] else '.'\n",
        "            row, col = node.row - 1, node.col - 1\n",
        "\n",
        "        node = matrix[row][col]\n",
        "\n",
        "    print(sequence_1_res[::-1])\n",
        "    print(match[::-1])\n",
        "    print(sequence_2_res[::-1])\n"
      ],
      "metadata": {
        "id": "eHcayeGS1wAR"
      },
      "id": "eHcayeGS1wAR",
      "execution_count": null,
      "outputs": []
    },
    {
      "cell_type": "code",
      "execution_count": null,
      "id": "amino-organization",
      "metadata": {
        "id": "amino-organization"
      },
      "outputs": [],
      "source": [
        "def needleman_wunsch_algorithm(seq1, seq2, penalty_params):\n",
        "    if penalty_params['penalty_type'] == 'linear':\n",
        "      global_linear(seq1, seq2, penalty_params)\n",
        "    else:\n",
        "      global_affine(seq1, seq2, penalty_params)"
      ]
    },
    {
      "cell_type": "markdown",
      "id": "arbitrary-melissa",
      "metadata": {
        "id": "arbitrary-melissa"
      },
      "source": [
        "### Smith Waterman (Local Sequence Alignment)"
      ]
    },
    {
      "cell_type": "markdown",
      "source": [
        "LocalLinearSequenceItem class defines a node in the Smith Waterman matrix with linear gap penalty. It keeps the coordinates for the node, the score and the direction the score is calculated: diagonal, horizontal gap or vertical gap."
      ],
      "metadata": {
        "id": "gA_7nexy_B5g"
      },
      "id": "gA_7nexy_B5g"
    },
    {
      "cell_type": "code",
      "source": [
        "class LocalLinearSequenceItem:\n",
        "\n",
        "    def __init__(self, row, col, score = 0, dir = None):\n",
        "        self.row = row\n",
        "        self.col = col\n",
        "        self.score = score\n",
        "        self.dir = dir"
      ],
      "metadata": {
        "id": "m65ac8Rg-9DW"
      },
      "id": "m65ac8Rg-9DW",
      "execution_count": null,
      "outputs": []
    },
    {
      "cell_type": "markdown",
      "source": [
        "The implementation of Smith Waterman with linear gap penalty.\n",
        "\n",
        "- Start by initializing an (n+1)x(m+1) matrix of LocalLinearSequence Items.\n",
        "- Mark the start node with direction as START.\n",
        "- In this matrix, change every negative score with 0.\n",
        "- Fill the initial nodes: 0th row and 0th column with the initialization rules.\n",
        "- For every other node, look to the nodes on left, up and up-left corner. Calculate 3 possible scores for different directions and take the maximum as the score of the node. Change with 0 if necessary. Save the direction the highest score was calculated with as the dir.\n",
        "- After filling the whole matrix, the result score is the maximum score in the matrix.\n",
        "\n",
        "---\n",
        "\n",
        "For the backtrack, keep 3 strings, for sequence 1, sequence 2 and the match string.\n",
        "- Start with the node on with the maximum score in the matrix.\n",
        "If the node's score is calculated by a HORIZONTAL_GAP, add a gap to the sequence 1 string, add a character to the sequence 2 string, add a gap to the match string. Move 1 column to the left.\n",
        "- If the node's score is calculated by a VERTICAL_GAP, add a gap to the sequence 2 string, add a character to the sequence 1 string, add a gap to the match string. Move 1 column to the top.\n",
        "- If the node's score is calculated by a DIAGONAL, add a character to the sequence 1 string, add a character to the sequence 2 string, add a match or mismatch to the match string. Move 1 column to the left, 1 column to the top.\n",
        "- Stop when a node with score 0 is reached.\n",
        "- As this backtrack fills the 3 strings for the matched parts only, add the prior and the remaining parts of the strings outside of the match region."
      ],
      "metadata": {
        "id": "0_bE5s6b_WP2"
      },
      "id": "0_bE5s6b_WP2"
    },
    {
      "cell_type": "code",
      "source": [
        "def local_linear(seq1, seq2, penalty_params):\n",
        "    row_count = len(seq1) + 1\n",
        "    col_count = len(seq2) + 1\n",
        "    \n",
        "    GAP_PENALTY = penalty_params['gap_opening_penalty']\n",
        "\n",
        "    matrix = [[LocalLinearSequenceItem(row=row, col=col) for col in range(col_count)] for row in range(row_count)]\n",
        "\n",
        "    max_score, max_row, max_col = 0 , 0 , 0\n",
        "\n",
        "    for row_num in range(row_count):\n",
        "        for col_num in range(col_count):\n",
        "            if row_num == 0 and col_num == 0:\n",
        "                item = LocalLinearSequenceItem(row=row_num, col=col_num, score=0, dir='START')\n",
        "\n",
        "            elif row_num == 0:\n",
        "                item = LocalLinearSequenceItem(row=row_num, col=col_num, score=max((GAP_PENALTY * col_num), 0), dir='HORIZONTAL_GAP')\n",
        "\n",
        "            elif col_num == 0:\n",
        "                item = LocalLinearSequenceItem(row=row_num, col=col_num, score=max((GAP_PENALTY * row_num), 0), dir='VERTICAL_GAP')\n",
        "\n",
        "            else:\n",
        "                up = matrix[row_num-1][col_num]\n",
        "                left = matrix[row_num][col_num-1]\n",
        "                diagonal = matrix[row_num-1][col_num-1]\n",
        "\n",
        "                seq_1_letter = seq1[row_num - 1]\n",
        "                seq_2_letter = seq2[col_num - 1]\n",
        "\n",
        "                diagonal_score = max(diagonal.score + SCORES[ALPHABET.index(seq_1_letter)][ALPHABET.index(seq_2_letter)],0)\n",
        "                horizontal_score = max(left.score + GAP_PENALTY,0)\n",
        "                vertical_score = max(up.score + GAP_PENALTY,0)\n",
        "\n",
        "                score = max(diagonal_score, horizontal_score, vertical_score)\n",
        "                if score == horizontal_score:\n",
        "                    item = LocalLinearSequenceItem(row=row_num, col=col_num, score=score, dir='HORIZONTAL_GAP')\n",
        "                elif score == vertical_score:\n",
        "                    item = LocalLinearSequenceItem(row=row_num, col=col_num, score=score, dir='VERTICAL_GAP')\n",
        "                else:\n",
        "                    item = LocalLinearSequenceItem(row=row_num, col=col_num, score=score, dir='DIAGONAL')\n",
        "\n",
        "            if item.score>max_score:\n",
        "                max_score = item.score\n",
        "                max_row = row_num\n",
        "                max_col = col_num\n",
        "            matrix[row_num][col_num] = item\n",
        "\n",
        "    node = matrix[max_row][max_col]\n",
        "\n",
        "    print('Score:', max_score)\n",
        "    sequence_1_res = ''\n",
        "    sequence_2_res = ''\n",
        "    match = ''\n",
        "    while True:\n",
        "        if node.score == 0:\n",
        "            break\n",
        "        if node.dir == 'START':\n",
        "            break\n",
        "        elif node.dir == 'HORIZONTAL_GAP':\n",
        "            sequence_2_res += seq2[node.col - 1]\n",
        "            sequence_1_res += '-'\n",
        "            match += '-'\n",
        "            row, col = node.row, node.col - 1\n",
        "        elif node.dir == 'VERTICAL_GAP':\n",
        "            sequence_1_res += seq1[node.row - 1]\n",
        "            sequence_2_res += '-'\n",
        "            match += '-'\n",
        "            row, col = node.row - 1, node.col\n",
        "        else:\n",
        "            sequence_1_res += seq1[node.row - 1]\n",
        "            sequence_2_res += seq2[node.col - 1]\n",
        "            match += '|' if seq1[node.row - 1] == seq2[node.col - 1] else '.'\n",
        "            row, col = node.row - 1, node.col -1\n",
        "        node = matrix[row][col]\n",
        "\n",
        "    max_prev = max(node.row, node.col)\n",
        "    prev_1 = seq1[:node.row]\n",
        "    prev_2 = seq2[:node.col]\n",
        "\n",
        "    res_1 = prev_1.rjust(max_prev) + sequence_1_res[::-1] + seq1[max_row:]\n",
        "    res_2 = prev_2.rjust(max_prev) + sequence_2_res[::-1] + seq2[max_col:]\n",
        "    res_match = ' '*max_prev + match[::-1]\n",
        "    print(res_1)\n",
        "    print(res_match)\n",
        "    print(res_2)\n"
      ],
      "metadata": {
        "id": "6xSNByro4Spj"
      },
      "id": "6xSNByro4Spj",
      "execution_count": null,
      "outputs": []
    },
    {
      "cell_type": "markdown",
      "source": [
        "\n",
        "\n",
        "---\n",
        "\n"
      ],
      "metadata": {
        "id": "m0NrbbSuaTuu"
      },
      "id": "m0NrbbSuaTuu"
    },
    {
      "cell_type": "markdown",
      "source": [
        "LocalAffineSequenceItem class defines a node in the Smith Waterman matrix with affine gap penalty. It keeps the coordinates for the node, three scores and the directions the scores are calculated."
      ],
      "metadata": {
        "id": "oy-ytuMse1o5"
      },
      "id": "oy-ytuMse1o5"
    },
    {
      "cell_type": "code",
      "source": [
        "class LocalAffineSequenceItem:\n",
        "\n",
        "    def __init__(self, row, col, X=0.0, XDIR='', Y=0.0, YDIR='', D=0.0, DDIR=''):\n",
        "        self.row = row\n",
        "        self.col = col\n",
        "        self.X = X\n",
        "        self.XDIR = XDIR\n",
        "        self.Y = Y\n",
        "        self.YDIR = YDIR\n",
        "        self.D = D\n",
        "        self.DDIR = DDIR"
      ],
      "metadata": {
        "id": "5zF0-A0IaVo2"
      },
      "id": "5zF0-A0IaVo2",
      "execution_count": null,
      "outputs": []
    },
    {
      "cell_type": "markdown",
      "source": [
        "The implementation of Smith Waterman Algorithm with affine gap penalty.\n",
        "- Start by initializing an (n+1)x(m+1) matrix of LocalAffineSequenceItem.\n",
        "- Mark the start node with direction as START.\n",
        "- Fill the initial nodes: 0th row and 0th column with the initialization rules.\n",
        "- For every other node, look to the nodes on left, up and up-left corner. \n",
        "- Calculate possible scores for different directions, using the different scores on the 3 nodes. Take the gap extention penalty in account. Save the direction the highest score was calculated with as the dir for each of the scores.\n",
        "- In this matrix, change every negative score with 0.\n",
        "- After filling the whole matrix, the result score is the maximum score in the matrix.\n",
        "\n",
        "---\n",
        "\n",
        "For the backtrack, keep 3 strings, for sequence 1, sequence 2 and the match string.\n",
        "- Start with the node on with the maximum score in the matrix.\n",
        "If the node's score is calculated by a HORIZONTAL_GAP, add a gap to the sequence 1 string, add a character to the sequence 2 string, add a gap to the match string. Move 1 column to the left.\n",
        "- If the node's score is calculated by a VERTICAL_GAP, add a gap to the sequence 2 string, add a character to the sequence 1 string, add a gap to the match string. Move 1 column to the top.\n",
        "- If the node's score is calculated by a DIAGONAL, add a character to the sequence 1 string, add a character to the sequence 2 string, add a match or mismatch to the match string. Move 1 column to the left, 1 column to the top.\n",
        "- Stop when a node with score 0 is reached.\n",
        "- As this backtrack fills the 3 strings for the matched parts only, add the prior and the remaining parts of the strings outside of the match region."
      ],
      "metadata": {
        "id": "-RHvgK3MfEKU"
      },
      "id": "-RHvgK3MfEKU"
    },
    {
      "cell_type": "code",
      "source": [
        "import math\n",
        "\n",
        "\n",
        "def local_affine(seq1, seq2, penalty_params):\n",
        "    GAP_PENALTY = penalty_params['gap_opening_penalty']\n",
        "    GAP_EXTENSION_PENALTY = penalty_params['gap_extension_penalty']\n",
        "\n",
        "    row_count = len(seq1) + 1\n",
        "    col_count = len(seq2) + 1\n",
        "    matrix = [[LocalAffineSequenceItem(row=row, col=col) for col in range(col_count)] for row in range(row_count)]\n",
        "    max_score, max_row, max_col, max_dir = 0 , 0 , 0 , 'D'\n",
        "\n",
        "\n",
        "    for row_num in range(row_count):\n",
        "        for col_num in range(col_count):\n",
        "            if row_num == 0 and col_num == 0:\n",
        "                item = LocalAffineSequenceItem(row=row_num, col=col_num, X=0, Y=0, D=0, XDIR='START', YDIR='START', DDIR='START')\n",
        "\n",
        "            elif row_num == 0:\n",
        "                item = LocalAffineSequenceItem(row=row_num, col=col_num, X=0, Y=0, D=0, XDIR='START', YDIR='Y', DDIR='START')\n",
        "\n",
        "            elif col_num == 0:\n",
        "                item = LocalAffineSequenceItem(row=row_num, col=col_num, X=0, Y=0, D=0, XDIR='X', YDIR='START', DDIR='START')\n",
        "\n",
        "            else:\n",
        "                Y = max(matrix[row_num][col_num-1].Y + GAP_EXTENSION_PENALTY,\n",
        "                        matrix[row_num][col_num-1].D + GAP_PENALTY)\n",
        "                YDIR = 'Y' if Y == matrix[row_num][col_num-1].Y + GAP_EXTENSION_PENALTY else 'D'\n",
        "                Y = max(Y, 0)\n",
        "\n",
        "                X = max(matrix[row_num-1][col_num].X + GAP_EXTENSION_PENALTY,\n",
        "                        matrix[row_num-1][col_num].D + GAP_PENALTY)\n",
        "                XDIR = 'X' if X == matrix[row_num-1][col_num].X + GAP_EXTENSION_PENALTY else 'D'\n",
        "                X = max(X, 0)\n",
        "\n",
        "                seq_1_letter = seq1[row_num - 1]\n",
        "                seq_2_letter = seq2[col_num - 1]\n",
        "                score = SCORES[ALPHABET.index(seq_1_letter)][ALPHABET.index(seq_2_letter)]\n",
        "                D = max(matrix[row_num-1][col_num-1].X + score,\n",
        "                        matrix[row_num-1][col_num-1].Y + score,\n",
        "                        matrix[row_num-1][col_num-1].D + score)\n",
        "                DDIR= 'X' if D == matrix[row_num-1][col_num-1].X + score \\\n",
        "                    else ('Y' if D == matrix[row_num-1][col_num-1].Y + score else 'D')\n",
        "                D = max(D, 0)\n",
        "\n",
        "                item = LocalAffineSequenceItem(row=row_num, col=col_num, X=X, Y=Y, D=D, XDIR=XDIR, YDIR=YDIR, DDIR=DDIR)\n",
        "\n",
        "            if max(item.X, item.Y, item.D)>max_score:\n",
        "                max_score = max(item.X, item.Y, item.D)\n",
        "                max_row = row_num\n",
        "                max_col = col_num\n",
        "                max_dir = 'X' if max_score == item.X else ('Y' if max_score == item.Y else 'D')\n",
        "            matrix[row_num][col_num] = item\n",
        "\n",
        "    node = matrix[max_row][max_col]\n",
        "\n",
        "    print('Score:', max_score)\n",
        "    sequence_1_res = ''\n",
        "    sequence_2_res = ''\n",
        "    match = ''\n",
        "    \n",
        "    score_to_check = 'X' if score == node.X else ('Y' if score == node.Y else 'D')\n",
        "    while True:\n",
        "\n",
        "        if node.XDIR == 'START' and node.YDIR == 'START' and node.DDIR == 'START':\n",
        "            break\n",
        "        if score_to_check == 'X':\n",
        "            if node.X == 0:\n",
        "              break\n",
        "            dir = 'VERTICAL_GAP'\n",
        "            if node.XDIR == 'X':\n",
        "                next_score_to_check = 'X'\n",
        "            else:\n",
        "                next_score_to_check = 'D'\n",
        "        elif score_to_check == 'Y':\n",
        "            if node.Y == 0:\n",
        "              break\n",
        "            dir = 'HORIZONTAL_GAP'\n",
        "            if node.YDIR == 'Y':\n",
        "                next_score_to_check = 'Y'\n",
        "            else:\n",
        "                next_score_to_check = 'D'\n",
        "        else:\n",
        "            if node.D == 0:\n",
        "              break\n",
        "            dir = 'DIAGONAL'\n",
        "            if node.DDIR == 'X':\n",
        "                next_score_to_check = 'X'\n",
        "            elif node.DDIR == 'Y':\n",
        "                next_score_to_check = 'Y'\n",
        "            else:\n",
        "                next_score_to_check = 'D'\n",
        "        score_to_check = next_score_to_check\n",
        "\n",
        "        if dir == 'HORIZONTAL_GAP':\n",
        "            sequence_1_res += '-'\n",
        "            sequence_2_res += seq2[node.col - 1]\n",
        "            match += '-'\n",
        "            row, col = node.row, node.col - 1\n",
        "\n",
        "        elif dir == 'VERTICAL_GAP':\n",
        "            sequence_1_res += seq1[node.row - 1]\n",
        "            sequence_2_res += '-'\n",
        "            match += '-'\n",
        "            row, col = node.row - 1, node.col\n",
        "\n",
        "        else:\n",
        "            sequence_1_res += seq1[node.row - 1]\n",
        "            sequence_2_res += seq2[node.col - 1]\n",
        "            match += '|' if seq1[node.row - 1] == seq2[node.col - 1] else '.'\n",
        "            row, col = node.row - 1, node.col - 1\n",
        "\n",
        "        node = matrix[row][col]\n",
        "\n",
        "    max_prev = max(node.row, node.col)\n",
        "    prev_1 = seq1[:node.row]\n",
        "    prev_2 = seq2[:node.col]\n",
        "\n",
        "    res_1 = prev_1.rjust(max_prev) + sequence_1_res[::-1] + seq1[max_row:]\n",
        "    res_2 = prev_2.rjust(max_prev) + sequence_2_res[::-1] + seq2[max_col:]\n",
        "    res_match = ' '*max_prev + match[::-1]\n",
        "    print(res_1)\n",
        "    print(res_match)\n",
        "    print(res_2)\n",
        "\n"
      ],
      "metadata": {
        "id": "Ky2YjjWqbIgz"
      },
      "id": "Ky2YjjWqbIgz",
      "execution_count": null,
      "outputs": []
    },
    {
      "cell_type": "code",
      "execution_count": null,
      "id": "cheap-helena",
      "metadata": {
        "id": "cheap-helena"
      },
      "outputs": [],
      "source": [
        "def smith_waterman_algorithm(seq1, seq2, penalty_params):\n",
        "    if penalty_params['penalty_type'] == 'linear':\n",
        "      local_linear(seq1, seq2, penalty_params)\n",
        "    else:\n",
        "      local_affine(seq1, seq2, penalty_params)"
      ]
    },
    {
      "cell_type": "markdown",
      "id": "verified-hungarian",
      "metadata": {
        "id": "verified-hungarian"
      },
      "source": [
        "### Generic Sequence Alignment Function"
      ]
    },
    {
      "cell_type": "code",
      "execution_count": null,
      "id": "cheap-emission",
      "metadata": {
        "id": "cheap-emission"
      },
      "outputs": [],
      "source": [
        "def align_sequences(seq1, seq2, algorithm, penalty_params):\n",
        "    if algorithm == 'global':\n",
        "        return needleman_wunsch_algorithm(seq1, seq2, penalty_params)\n",
        "    elif algorithm == 'local': \n",
        "        return smith_waterman_algorithm(seq1, seq2, penalty_params)\n",
        "    else:\n",
        "        raise NotImplementedError"
      ]
    },
    {
      "cell_type": "markdown",
      "id": "alike-enlargement",
      "metadata": {
        "id": "alike-enlargement"
      },
      "source": [
        "### Inputs\n",
        "\n",
        "You can use the functions below to generate sample sequences to test your algorithms. "
      ]
    },
    {
      "cell_type": "code",
      "execution_count": null,
      "id": "close-founder",
      "metadata": {
        "colab": {
          "base_uri": "https://localhost:8080/"
        },
        "id": "close-founder",
        "outputId": "aaf7d3b3-3c74-4b84-99ea-9eb681443d52"
      },
      "outputs": [
        {
          "output_type": "execute_result",
          "data": {
            "text/plain": [
              "('DDNHLLVKRFFCNHWHFFVCCSIMNATNFGSRSHIIYICGWWST',\n",
              " 'DCSNGLLVKRFMHWCHFFTCSDIYNATNFVGKYRSHHIYICGWWKT')"
            ]
          },
          "metadata": {},
          "execution_count": 66
        }
      ],
      "source": [
        "import random\n",
        "aminoacids = ['A', 'R', 'N', 'D', 'C', 'Q', 'E', 'G', 'H', 'I', 'L', 'K', 'M', 'F', 'P', 'S', 'T', 'W', 'Y', 'V']\n",
        "\n",
        "def generate_sequence(length=50):    \n",
        "    return ''.join([random.choice(aminoacids) for i in range(length)])\n",
        "\n",
        "def mutate_sequence(seq, n_mutations=10):\n",
        "    seq = list(seq)\n",
        "    pos = {random.randint(1, len(seq)): random.choice(['substitute', 'delete']) for i in range(n_mutations)}   \n",
        "    mutated_sequence = ''\n",
        "    for ix, aminoacid in enumerate(seq):\n",
        "        if ix in pos:\n",
        "            if pos[ix] == 'substitute':\n",
        "                mutated_sequence += random.choice(aminoacids)\n",
        "        else:\n",
        "            mutated_sequence += aminoacid             \n",
        "    return mutated_sequence\n",
        "\n",
        "sample_sequence = generate_sequence()\n",
        "sequence1 = mutate_sequence(sample_sequence)\n",
        "sequence2 = mutate_sequence(sample_sequence)\n",
        "sequence1, sequence2"
      ]
    },
    {
      "cell_type": "markdown",
      "id": "injured-worthy",
      "metadata": {
        "id": "injured-worthy"
      },
      "source": [
        "#### Sample 1"
      ]
    },
    {
      "cell_type": "code",
      "execution_count": null,
      "id": "wound-minimum",
      "metadata": {
        "id": "wound-minimum"
      },
      "outputs": [],
      "source": [
        "sample1_sequence1 = 'PLEASANTLY'\n",
        "sample1_sequence2 = 'MEANLY'"
      ]
    },
    {
      "cell_type": "code",
      "source": [
        "!pip install bio"
      ],
      "metadata": {
        "colab": {
          "base_uri": "https://localhost:8080/"
        },
        "id": "_uK-iuYc1IFk",
        "outputId": "46a23ea1-6cdd-4e8f-a5bc-37263f5b8bab"
      },
      "id": "_uK-iuYc1IFk",
      "execution_count": null,
      "outputs": [
        {
          "output_type": "stream",
          "name": "stdout",
          "text": [
            "Requirement already satisfied: bio in /usr/local/lib/python3.7/dist-packages (1.3.8)\n",
            "Requirement already satisfied: tqdm in /usr/local/lib/python3.7/dist-packages (from bio) (4.64.0)\n",
            "Requirement already satisfied: requests in /usr/local/lib/python3.7/dist-packages (from bio) (2.23.0)\n",
            "Requirement already satisfied: mygene in /usr/local/lib/python3.7/dist-packages (from bio) (3.2.2)\n",
            "Requirement already satisfied: biopython>=1.79 in /usr/local/lib/python3.7/dist-packages (from bio) (1.79)\n",
            "Requirement already satisfied: numpy in /usr/local/lib/python3.7/dist-packages (from biopython>=1.79->bio) (1.21.6)\n",
            "Requirement already satisfied: biothings-client>=0.2.6 in /usr/local/lib/python3.7/dist-packages (from mygene->bio) (0.2.6)\n",
            "Requirement already satisfied: chardet<4,>=3.0.2 in /usr/local/lib/python3.7/dist-packages (from requests->bio) (3.0.4)\n",
            "Requirement already satisfied: certifi>=2017.4.17 in /usr/local/lib/python3.7/dist-packages (from requests->bio) (2021.10.8)\n",
            "Requirement already satisfied: urllib3!=1.25.0,!=1.25.1,<1.26,>=1.21.1 in /usr/local/lib/python3.7/dist-packages (from requests->bio) (1.24.3)\n",
            "Requirement already satisfied: idna<3,>=2.5 in /usr/local/lib/python3.7/dist-packages (from requests->bio) (2.10)\n"
          ]
        }
      ]
    },
    {
      "cell_type": "code",
      "execution_count": null,
      "id": "western-simple",
      "metadata": {
        "id": "western-simple"
      },
      "outputs": [],
      "source": [
        "from Bio.Align import substitution_matrices\n",
        "from Bio import Align \n",
        "def align_sequences_biopython(seq1, seq2, algorithm, penalty_params):\n",
        "    aligner = Align.PairwiseAligner()\n",
        "    aligner.substitution_matrix = substitution_matrices.load(\"BLOSUM62\")\n",
        "    if penalty_params['penalty_type'] == 'linear':\n",
        "        aligner.open_gap_score = penalty_params['gap_opening_penalty'] \n",
        "        aligner.extend_gap_score = penalty_params['gap_opening_penalty'] \n",
        "    else:\n",
        "        aligner.open_gap_score = penalty_params['gap_opening_penalty'] # -11\n",
        "        aligner.extend_gap_score = penalty_params['gap_extension_penalty'] # -1\n",
        "    aligner.mode = algorithm\n",
        "    for alignment in aligner.align(seq1, seq2):\n",
        "        print('Score:', alignment.score)\n",
        "        print(alignment)\n"
      ]
    },
    {
      "cell_type": "code",
      "execution_count": null,
      "id": "conventional-witness",
      "metadata": {
        "colab": {
          "base_uri": "https://localhost:8080/"
        },
        "id": "conventional-witness",
        "outputId": "b4ffcea4-6705-4e73-d97c-e889adf77c62"
      },
      "outputs": [
        {
          "output_type": "stream",
          "name": "stdout",
          "text": [
            "BIOPYTHON\n",
            "Score: 25.0\n",
            "PLEASANTLY\n",
            " .||--|-||\n",
            " MEA--N-LY\n",
            "\n",
            "Score: 25.0\n",
            "PLEASANTLY\n",
            " .|--||-||\n",
            " ME--AN-LY\n",
            "\n",
            "\n",
            "RESULT\n",
            "Score: 25.0\n",
            "PLEASANTLY\n",
            " .||--|-||\n",
            " MEA--N-LY\n"
          ]
        }
      ],
      "source": [
        "print('BIOPYTHON')\n",
        "align_sequences_biopython(sample1_sequence1, sample1_sequence2, 'local', {'penalty_type': 'linear', 'gap_opening_penalty': -1})\n",
        "\n",
        "print('\\nRESULT')\n",
        "align_sequences(sample1_sequence1, sample1_sequence2, 'local', {'penalty_type': 'linear', 'gap_opening_penalty': -1})"
      ]
    },
    {
      "cell_type": "code",
      "execution_count": null,
      "id": "respective-youth",
      "metadata": {
        "colab": {
          "base_uri": "https://localhost:8080/"
        },
        "id": "respective-youth",
        "outputId": "862d155e-6e34-4c86-deb9-6def8f7afec5"
      },
      "outputs": [
        {
          "output_type": "stream",
          "name": "stdout",
          "text": [
            "BIOPYTHON\n",
            "Score: 12.0\n",
            "PLEASANTLY\n",
            " .||.\n",
            " MEANLY\n",
            "\n",
            "\n",
            "RESULT\n",
            "Score: 12.0\n",
            "PLEASANTLY\n",
            " .||.\n",
            " MEANLY\n"
          ]
        }
      ],
      "source": [
        "print('BIOPYTHON')\n",
        "align_sequences_biopython(sample1_sequence1, sample1_sequence2, 'local', {'penalty_type': 'affine', 'gap_opening_penalty': -11, 'gap_extension_penalty': -1})\n",
        "\n",
        "print('\\nRESULT')\n",
        "align_sequences(sample1_sequence1, sample1_sequence2, 'local', {'penalty_type': 'affine', 'gap_opening_penalty': -11, 'gap_extension_penalty': -1})"
      ]
    },
    {
      "cell_type": "code",
      "execution_count": null,
      "id": "ahead-durham",
      "metadata": {
        "colab": {
          "base_uri": "https://localhost:8080/"
        },
        "id": "ahead-durham",
        "outputId": "f181b3dd-4600-4da8-c231-d1aae0d4616f"
      },
      "outputs": [
        {
          "output_type": "stream",
          "name": "stdout",
          "text": [
            "BIOPYTHON\n",
            "Score: 24.0\n",
            "PLEASANTLY\n",
            "-.||--|-||\n",
            "-MEA--N-LY\n",
            "\n",
            "Score: 24.0\n",
            "PLEASANTLY\n",
            "-.|--||-||\n",
            "-ME--AN-LY\n",
            "\n",
            "\n",
            "RESULT\n",
            "Score: 24.0\n",
            "PLEASANTLY\n",
            "-.||--|-||\n",
            "-MEA--N-LY\n"
          ]
        }
      ],
      "source": [
        "print('BIOPYTHON')\n",
        "align_sequences_biopython(sample1_sequence1, sample1_sequence2, 'global', {'penalty_type': 'linear', 'gap_opening_penalty': -1})\n",
        "\n",
        "print('\\nRESULT')\n",
        "align_sequences(sample1_sequence1, sample1_sequence2, 'global', {'penalty_type': 'linear', 'gap_opening_penalty': -1})"
      ]
    },
    {
      "cell_type": "code",
      "execution_count": null,
      "id": "broadband-pixel",
      "metadata": {
        "colab": {
          "base_uri": "https://localhost:8080/"
        },
        "id": "broadband-pixel",
        "outputId": "5e5a5e67-f8e7-47c6-d5bc-02021cf7a703"
      },
      "outputs": [
        {
          "output_type": "stream",
          "name": "stdout",
          "text": [
            "BIOPYTHON\n",
            "Score: -1.0\n",
            "PLEASANTLY\n",
            "-.||.---||\n",
            "-MEAN---LY\n",
            "\n",
            "\n",
            "RESULT\n",
            "Score: -1.0\n",
            "PLEASANTLY\n",
            "-.||.---||\n",
            "-MEAN---LY\n"
          ]
        }
      ],
      "source": [
        "print('BIOPYTHON')\n",
        "align_sequences_biopython(sample1_sequence1, sample1_sequence2, 'global', {'penalty_type': 'affine', 'gap_opening_penalty': -11, 'gap_extension_penalty': -1})\n",
        "\n",
        "print('\\nRESULT')\n",
        "align_sequences(sample1_sequence1, sample1_sequence2, 'global', {'penalty_type': 'affine', 'gap_opening_penalty': -11, 'gap_extension_penalty': -1})\n"
      ]
    },
    {
      "cell_type": "markdown",
      "id": "computational-seeker",
      "metadata": {
        "id": "computational-seeker"
      },
      "source": [
        "#### Sample 2"
      ]
    },
    {
      "cell_type": "code",
      "execution_count": null,
      "id": "worthy-diploma",
      "metadata": {
        "id": "worthy-diploma"
      },
      "outputs": [],
      "source": [
        "sample2_sequence1 = 'PRTEINS'\n",
        "sample2_sequence2 = 'PRTWPSEIN'"
      ]
    },
    {
      "cell_type": "code",
      "execution_count": null,
      "id": "architectural-event",
      "metadata": {
        "colab": {
          "base_uri": "https://localhost:8080/"
        },
        "id": "architectural-event",
        "outputId": "c8438844-1629-4868-8f14-120d107d6307"
      },
      "outputs": [
        {
          "output_type": "stream",
          "name": "stdout",
          "text": [
            "BIOPYTHON\n",
            "Score: 29.0\n",
            "PRT---EINS\n",
            "|||---|||\n",
            "PRTWPSEIN\n",
            "\n",
            "\n",
            "RESULT\n",
            "Score: 29.0\n",
            "PRT---EINS\n",
            "|||---|||\n",
            "PRTWPSEIN\n"
          ]
        }
      ],
      "source": [
        "print('BIOPYTHON')\n",
        "align_sequences_biopython(sample2_sequence1, sample2_sequence2, 'local', {'penalty_type': 'linear', 'gap_opening_penalty': -1})\n",
        "\n",
        "print('\\nRESULT')\n",
        "align_sequences(sample2_sequence1, sample2_sequence2, 'local', {'penalty_type': 'linear', 'gap_opening_penalty': -1})\n"
      ]
    },
    {
      "cell_type": "markdown",
      "id": "rough-sensitivity",
      "metadata": {
        "id": "rough-sensitivity"
      },
      "source": [
        "#### Sample 3"
      ]
    },
    {
      "cell_type": "code",
      "execution_count": null,
      "id": "catholic-danish",
      "metadata": {
        "id": "catholic-danish"
      },
      "outputs": [],
      "source": [
        "sample3_sequence1 = 'YHFDVPDCWAHRYWVENPQAIAQMEQICFNWFPSMMMKQPHVFKVDHHMSCRWLPIRGKKCSSCCTRMRVRTVWE'\n",
        "sample3_sequence2 = 'YHEDVAHEDAIAQMVNTFGFVWQICLNQFPSMMMKIYWIAVLSAHVADRKTWSKHMSCRWLPIISATCARMRVRTVWE'"
      ]
    }
  ],
  "metadata": {
    "kernelspec": {
      "display_name": "Python 3",
      "language": "python",
      "name": "python3"
    },
    "language_info": {
      "codemirror_mode": {
        "name": "ipython",
        "version": 3
      },
      "file_extension": ".py",
      "mimetype": "text/x-python",
      "name": "python",
      "nbconvert_exporter": "python",
      "pygments_lexer": "ipython3",
      "version": "3.7.3"
    },
    "colab": {
      "name": "2018400045.ipynb",
      "provenance": [],
      "collapsed_sections": []
    }
  },
  "nbformat": 4,
  "nbformat_minor": 5
}
